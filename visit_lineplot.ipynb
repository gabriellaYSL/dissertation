{
 "cells": [
  {
   "cell_type": "code",
   "execution_count": 1,
   "id": "3855156d",
   "metadata": {},
   "outputs": [],
   "source": [
    "# Import packages\n",
    "import pandas as pd\n",
    "import numpy as np\n",
    "import geopandas as gpd\n",
    "from shapely.geometry import Point\n",
    "import matplotlib as mpl\n",
    "import matplotlib.pyplot as plt \n",
    "import seaborn as sns\n",
    "#import libpysal as ps\n",
    "from statsmodels.tsa.seasonal import STL\n",
    "import plotly.express as px"
   ]
  },
  {
   "cell_type": "code",
   "execution_count": 2,
   "id": "1b855991",
   "metadata": {},
   "outputs": [],
   "source": [
    "all_visits = pd.read_csv(\"toR.csv\",parse_dates=['datetime'])"
   ]
  },
  {
   "cell_type": "code",
   "execution_count": 3,
   "id": "eee1f67f",
   "metadata": {},
   "outputs": [],
   "source": [
    "strat_stats = pd.read_csv(\"raw_data/strat_stats.csv\")"
   ]
  },
  {
   "cell_type": "code",
   "execution_count": 4,
   "id": "63269179",
   "metadata": {},
   "outputs": [],
   "source": [
    "#all_visits is the dataset I already gave you\n",
    "#df0=pd.DataFrame({\"poi\":all_visits[\"POI_index\"],\"day\":all_visits[\"datetime\"].dt.dayofyear+365*(all_visits[\"datetime\"].dt.year==2021),\"datetime\":all_visits[\"datetime\"],\"type\":all_visits[\"type\"],\"uid\":all_visits[\"uid\"]})\n",
    "df0=all_visits.copy()"
   ]
  },
  {
   "cell_type": "code",
   "execution_count": 5,
   "id": "92cf382d",
   "metadata": {
    "collapsed": true
   },
   "outputs": [
    {
     "data": {
      "text/html": [
       "<div>\n",
       "<style scoped>\n",
       "    .dataframe tbody tr th:only-of-type {\n",
       "        vertical-align: middle;\n",
       "    }\n",
       "\n",
       "    .dataframe tbody tr th {\n",
       "        vertical-align: top;\n",
       "    }\n",
       "\n",
       "    .dataframe thead th {\n",
       "        text-align: right;\n",
       "    }\n",
       "</style>\n",
       "<table border=\"1\" class=\"dataframe\">\n",
       "  <thead>\n",
       "    <tr style=\"text-align: right;\">\n",
       "      <th></th>\n",
       "      <th>poi</th>\n",
       "      <th>day</th>\n",
       "      <th>datetime</th>\n",
       "      <th>type</th>\n",
       "      <th>uid</th>\n",
       "    </tr>\n",
       "  </thead>\n",
       "  <tbody>\n",
       "    <tr>\n",
       "      <th>0</th>\n",
       "      <td>4201</td>\n",
       "      <td>1</td>\n",
       "      <td>2020-01-01 00:00:00-05:00</td>\n",
       "      <td>bars</td>\n",
       "      <td>077480D3-7C5E-46AE-8CAF-E949E78C5A35</td>\n",
       "    </tr>\n",
       "    <tr>\n",
       "      <th>1</th>\n",
       "      <td>2185</td>\n",
       "      <td>1</td>\n",
       "      <td>2020-01-01 00:00:00-05:00</td>\n",
       "      <td>dentists</td>\n",
       "      <td>077480D3-7C5E-46AE-8CAF-E949E78C5A35</td>\n",
       "    </tr>\n",
       "    <tr>\n",
       "      <th>2</th>\n",
       "      <td>1754</td>\n",
       "      <td>1</td>\n",
       "      <td>2020-01-01 00:00:00-05:00</td>\n",
       "      <td>conveniences</td>\n",
       "      <td>077480d3-7c5e-46ae-8caf-e949e78c5a35</td>\n",
       "    </tr>\n",
       "    <tr>\n",
       "      <th>3</th>\n",
       "      <td>2537</td>\n",
       "      <td>1</td>\n",
       "      <td>2020-01-01 00:00:00-05:00</td>\n",
       "      <td>hgs</td>\n",
       "      <td>077480d3-7c5e-46ae-8caf-e949e78c5a35</td>\n",
       "    </tr>\n",
       "    <tr>\n",
       "      <th>4</th>\n",
       "      <td>7772</td>\n",
       "      <td>1</td>\n",
       "      <td>2020-01-01 00:00:00-05:00</td>\n",
       "      <td>restaurants</td>\n",
       "      <td>3f5e8df1-da24-4259-a16c-d34cc31f9bb2</td>\n",
       "    </tr>\n",
       "    <tr>\n",
       "      <th>...</th>\n",
       "      <td>...</td>\n",
       "      <td>...</td>\n",
       "      <td>...</td>\n",
       "      <td>...</td>\n",
       "      <td>...</td>\n",
       "    </tr>\n",
       "    <tr>\n",
       "      <th>864456</th>\n",
       "      <td>471</td>\n",
       "      <td>546</td>\n",
       "      <td>2021-06-30 18:36:00-05:00</td>\n",
       "      <td>cloths</td>\n",
       "      <td>14fb39bc-e5a8-4638-97a9-7602d8a64229</td>\n",
       "    </tr>\n",
       "    <tr>\n",
       "      <th>864457</th>\n",
       "      <td>1505</td>\n",
       "      <td>546</td>\n",
       "      <td>2021-06-30 18:36:00-05:00</td>\n",
       "      <td>restaurants</td>\n",
       "      <td>1f064ba0-201f-4c25-8105-aa2738c8f11b</td>\n",
       "    </tr>\n",
       "    <tr>\n",
       "      <th>864458</th>\n",
       "      <td>4238</td>\n",
       "      <td>546</td>\n",
       "      <td>2021-06-30 18:48:00-05:00</td>\n",
       "      <td>cafes</td>\n",
       "      <td>0cd97ae5-df49-455f-9bda-9c7b5f36659e</td>\n",
       "    </tr>\n",
       "    <tr>\n",
       "      <th>864459</th>\n",
       "      <td>471</td>\n",
       "      <td>546</td>\n",
       "      <td>2021-06-30 18:48:00-05:00</td>\n",
       "      <td>cloths</td>\n",
       "      <td>14fb39bc-e5a8-4638-97a9-7602d8a64229</td>\n",
       "    </tr>\n",
       "    <tr>\n",
       "      <th>864460</th>\n",
       "      <td>1870</td>\n",
       "      <td>546</td>\n",
       "      <td>2021-06-30 18:48:00-05:00</td>\n",
       "      <td>supers</td>\n",
       "      <td>62E259C4-A0CD-4057-B303-8632080350B8</td>\n",
       "    </tr>\n",
       "  </tbody>\n",
       "</table>\n",
       "<p>864461 rows × 5 columns</p>\n",
       "</div>"
      ],
      "text/plain": [
       "         poi  day                  datetime          type  \\\n",
       "0       4201    1 2020-01-01 00:00:00-05:00          bars   \n",
       "1       2185    1 2020-01-01 00:00:00-05:00      dentists   \n",
       "2       1754    1 2020-01-01 00:00:00-05:00  conveniences   \n",
       "3       2537    1 2020-01-01 00:00:00-05:00           hgs   \n",
       "4       7772    1 2020-01-01 00:00:00-05:00   restaurants   \n",
       "...      ...  ...                       ...           ...   \n",
       "864456   471  546 2021-06-30 18:36:00-05:00        cloths   \n",
       "864457  1505  546 2021-06-30 18:36:00-05:00   restaurants   \n",
       "864458  4238  546 2021-06-30 18:48:00-05:00         cafes   \n",
       "864459   471  546 2021-06-30 18:48:00-05:00        cloths   \n",
       "864460  1870  546 2021-06-30 18:48:00-05:00        supers   \n",
       "\n",
       "                                         uid  \n",
       "0       077480D3-7C5E-46AE-8CAF-E949E78C5A35  \n",
       "1       077480D3-7C5E-46AE-8CAF-E949E78C5A35  \n",
       "2       077480d3-7c5e-46ae-8caf-e949e78c5a35  \n",
       "3       077480d3-7c5e-46ae-8caf-e949e78c5a35  \n",
       "4       3f5e8df1-da24-4259-a16c-d34cc31f9bb2  \n",
       "...                                      ...  \n",
       "864456  14fb39bc-e5a8-4638-97a9-7602d8a64229  \n",
       "864457  1f064ba0-201f-4c25-8105-aa2738c8f11b  \n",
       "864458  0cd97ae5-df49-455f-9bda-9c7b5f36659e  \n",
       "864459  14fb39bc-e5a8-4638-97a9-7602d8a64229  \n",
       "864460  62E259C4-A0CD-4057-B303-8632080350B8  \n",
       "\n",
       "[864461 rows x 5 columns]"
      ]
     },
     "execution_count": 5,
     "metadata": {},
     "output_type": "execute_result"
    }
   ],
   "source": [
    "df0"
   ]
  },
  {
   "cell_type": "code",
   "execution_count": 5,
   "id": "b62f0994",
   "metadata": {},
   "outputs": [
    {
     "data": {
      "text/html": [
       "<div>\n",
       "<style scoped>\n",
       "    .dataframe tbody tr th:only-of-type {\n",
       "        vertical-align: middle;\n",
       "    }\n",
       "\n",
       "    .dataframe tbody tr th {\n",
       "        vertical-align: top;\n",
       "    }\n",
       "\n",
       "    .dataframe thead th {\n",
       "        text-align: right;\n",
       "    }\n",
       "</style>\n",
       "<table border=\"1\" class=\"dataframe\">\n",
       "  <thead>\n",
       "    <tr style=\"text-align: right;\">\n",
       "      <th></th>\n",
       "      <th>day</th>\n",
       "      <th>type</th>\n",
       "      <th>uid</th>\n",
       "    </tr>\n",
       "  </thead>\n",
       "  <tbody>\n",
       "    <tr>\n",
       "      <th>0</th>\n",
       "      <td>1</td>\n",
       "      <td>banks</td>\n",
       "      <td>38</td>\n",
       "    </tr>\n",
       "    <tr>\n",
       "      <th>16</th>\n",
       "      <td>1</td>\n",
       "      <td>supers</td>\n",
       "      <td>39</td>\n",
       "    </tr>\n",
       "    <tr>\n",
       "      <th>15</th>\n",
       "      <td>1</td>\n",
       "      <td>restaurants</td>\n",
       "      <td>165</td>\n",
       "    </tr>\n",
       "    <tr>\n",
       "      <th>14</th>\n",
       "      <td>1</td>\n",
       "      <td>posts</td>\n",
       "      <td>8</td>\n",
       "    </tr>\n",
       "    <tr>\n",
       "      <th>13</th>\n",
       "      <td>1</td>\n",
       "      <td>physios</td>\n",
       "      <td>1</td>\n",
       "    </tr>\n",
       "    <tr>\n",
       "      <th>...</th>\n",
       "      <td>...</td>\n",
       "      <td>...</td>\n",
       "      <td>...</td>\n",
       "    </tr>\n",
       "    <tr>\n",
       "      <th>6023</th>\n",
       "      <td>366</td>\n",
       "      <td>bars</td>\n",
       "      <td>44</td>\n",
       "    </tr>\n",
       "    <tr>\n",
       "      <th>6022</th>\n",
       "      <td>366</td>\n",
       "      <td>banks</td>\n",
       "      <td>39</td>\n",
       "    </tr>\n",
       "    <tr>\n",
       "      <th>6036</th>\n",
       "      <td>366</td>\n",
       "      <td>restaurants</td>\n",
       "      <td>144</td>\n",
       "    </tr>\n",
       "    <tr>\n",
       "      <th>6028</th>\n",
       "      <td>366</td>\n",
       "      <td>conveniences</td>\n",
       "      <td>57</td>\n",
       "    </tr>\n",
       "    <tr>\n",
       "      <th>6037</th>\n",
       "      <td>366</td>\n",
       "      <td>supers</td>\n",
       "      <td>28</td>\n",
       "    </tr>\n",
       "  </tbody>\n",
       "</table>\n",
       "<p>6038 rows × 3 columns</p>\n",
       "</div>"
      ],
      "text/plain": [
       "      day          type  uid\n",
       "0       1         banks   38\n",
       "16      1        supers   39\n",
       "15      1   restaurants  165\n",
       "14      1         posts    8\n",
       "13      1       physios    1\n",
       "...   ...           ...  ...\n",
       "6023  366          bars   44\n",
       "6022  366         banks   39\n",
       "6036  366   restaurants  144\n",
       "6028  366  conveniences   57\n",
       "6037  366        supers   28\n",
       "\n",
       "[6038 rows x 3 columns]"
      ]
     },
     "execution_count": 5,
     "metadata": {},
     "output_type": "execute_result"
    }
   ],
   "source": [
    "df=df0.drop_duplicates(subset=[\"day\",\"poi\",\"uid\"])\n",
    "df=df.groupby(['day', 'type']).count()[\"uid\"].reset_index()\n",
    "df=df.sort_values(by=\"day\")\n",
    "df"
   ]
  },
  {
   "cell_type": "code",
   "execution_count": 6,
   "id": "f99f9d9b",
   "metadata": {},
   "outputs": [],
   "source": [
    "df1=df.copy()\n",
    "df1=df1.merge(strat_stats,on='day')\n",
    "\n",
    "df1['r']=df1['uid']/df1['count']*1000000"
   ]
  },
  {
   "cell_type": "code",
   "execution_count": 9,
   "id": "c9dfedba",
   "metadata": {},
   "outputs": [],
   "source": [
    "#only count unique person x visits, examine restaurant visits only (you could choose another POI type) and take aggegrate counts by day\n",
    "df3=df0.copy()\n",
    "df1=df1.loc[(df1[\"type\"]==\"electrics\")\n",
    "            &(df1['region']==3)]\n",
    "\n",
    "df1=df1.drop_duplicates(subset=[\"day\",\"poi\",\"uid\"])\n",
    "df1=df1.groupby([\"day\"]).count()[\"uid\"].reset_index()\n",
    "df1=df1.sort_values(by=\"day\")\n",
    "df1.loc[df1['day']==171]\n"
   ]
  },
  {
   "cell_type": "code",
   "execution_count": 11,
   "id": "3d96941d",
   "metadata": {},
   "outputs": [
    {
     "data": {
      "text/plain": [
       "1.1752568160926362"
      ]
     },
     "execution_count": 11,
     "metadata": {},
     "output_type": "execute_result"
    }
   ],
   "source": [
    "#STL\n",
    "restaurants = predict(df0, tp=\"electrics\", date='2020-06-19', day_num=171)\n",
    "restaurants"
   ]
  },
  {
   "cell_type": "markdown",
   "id": "e07b3d71",
   "metadata": {},
   "source": [
    "# line plot compare with control group"
   ]
  },
  {
   "cell_type": "code",
   "execution_count": null,
   "id": "2539f870",
   "metadata": {},
   "outputs": [],
   "source": [
    "df2=df1.groupby(['day']).sum()['r'].reset_index()\n",
    "fig=px.line(df2, x='day', y='r',  title=\"visit counts\") # plot the minimum wage over time\n",
    "fig.add_vline(x=79, line_dash=\"dash\")\n",
    "fig.add_vline(x=132, line_dash=\"dash\")\n",
    "fig.add_vline(x=227, line_dash=\"dash\")\n",
    "fig.add_vline(x=266, line_dash=\"dash\")\n",
    "fig.show()"
   ]
  },
  {
   "cell_type": "code",
   "execution_count": 43,
   "id": "bdac15c1",
   "metadata": {},
   "outputs": [
    {
     "data": {
      "application/vnd.plotly.v1+json": {
       "config": {
        "plotlyServerURL": "https://plot.ly"
       },
       "data": [
        {
         "hovertemplate": "type=dentists<br>day=%{x}<br>uid=%{y}<extra></extra>",
         "legendgroup": "dentists",
         "line": {
          "color": "#636efa",
          "dash": "solid"
         },
         "marker": {
          "symbol": "circle"
         },
         "mode": "lines",
         "name": "dentists",
         "orientation": "v",
         "showlegend": true,
         "type": "scatter",
         "x": [
          1,
          2,
          3,
          4,
          5,
          6,
          7,
          8,
          9,
          10,
          11,
          12,
          13,
          14,
          15,
          16,
          17,
          18,
          19,
          20,
          21,
          22,
          23,
          24,
          25,
          26,
          27,
          28,
          29,
          30,
          31,
          32,
          33,
          34,
          35,
          36,
          37,
          38,
          39,
          40,
          41,
          42,
          43,
          44,
          45,
          46,
          47,
          48,
          49,
          50,
          51,
          52,
          53,
          54,
          55,
          56,
          57,
          58,
          59,
          60,
          61,
          62,
          63,
          64,
          65,
          66,
          67,
          68,
          69,
          70,
          71,
          72,
          73,
          74,
          75,
          76,
          77,
          78,
          79,
          80,
          81,
          82,
          83,
          84,
          85,
          86,
          87,
          88,
          89,
          90,
          91,
          92,
          93,
          94,
          95,
          96,
          97,
          98,
          99,
          100,
          101,
          102,
          103,
          104,
          105,
          106,
          107,
          108,
          109,
          110,
          111,
          112,
          113,
          114,
          115,
          116,
          117,
          118,
          119,
          120,
          121,
          122,
          123,
          124,
          125,
          126,
          127,
          128,
          129,
          130,
          131,
          132,
          133,
          134,
          135,
          136,
          137,
          138,
          139,
          140,
          141,
          142,
          143,
          144,
          145,
          146,
          147,
          148,
          149,
          150,
          151,
          152,
          153,
          154,
          155,
          156,
          157,
          158,
          159,
          160,
          161,
          162,
          163,
          164,
          165,
          166,
          167,
          168,
          169,
          170,
          171,
          172,
          173,
          174,
          175,
          176,
          177,
          178,
          179,
          180,
          181,
          182,
          183,
          184,
          185,
          186,
          187,
          188,
          189,
          190,
          191,
          192,
          193,
          194,
          195,
          196,
          197,
          198,
          199,
          200,
          201,
          202,
          203,
          204,
          205,
          206,
          207,
          208,
          209,
          210,
          211,
          212,
          213,
          214,
          215,
          216,
          217,
          218,
          219,
          220,
          221,
          222,
          223,
          224,
          225,
          226,
          227,
          228,
          229,
          230,
          231,
          232,
          233,
          234,
          235,
          236,
          237,
          238,
          239,
          240,
          241,
          242,
          243,
          244,
          245,
          246,
          247,
          248,
          249,
          250,
          251,
          252,
          253,
          254,
          255,
          256,
          257,
          258,
          259,
          260,
          261,
          262,
          263,
          264,
          265,
          266,
          267,
          268,
          269,
          270,
          271,
          272,
          273,
          274,
          275,
          276,
          277,
          278,
          279,
          280,
          281,
          282,
          283,
          284,
          285,
          286,
          287,
          288,
          289,
          290,
          291,
          292,
          293,
          294,
          295,
          296,
          297,
          298,
          299,
          300,
          301,
          302,
          303,
          304,
          305,
          306,
          307,
          308,
          309,
          310,
          311,
          312,
          313,
          314,
          315,
          316,
          317,
          318,
          319,
          320,
          321,
          322,
          323,
          324,
          325,
          326,
          327,
          328,
          329,
          330,
          331,
          332,
          333,
          334,
          335,
          336,
          337,
          338,
          339,
          340,
          341,
          342,
          343,
          344,
          345,
          346,
          347,
          348,
          349,
          350,
          351,
          352,
          353,
          354,
          355,
          356,
          357,
          358,
          359,
          360,
          361,
          362,
          363,
          364,
          365,
          366
         ],
         "xaxis": "x",
         "y": [
          26,
          68,
          70,
          64,
          26,
          47,
          90,
          87,
          89,
          89,
          83,
          55,
          101,
          116,
          95,
          104,
          90,
          91,
          61,
          92,
          106,
          129,
          148,
          118,
          139,
          73,
          135,
          73,
          131,
          105,
          123,
          111,
          90,
          106,
          102,
          118,
          75,
          111,
          95,
          95,
          84,
          91,
          78,
          117,
          128,
          95,
          44,
          46,
          150,
          161,
          191,
          107,
          147,
          90,
          132,
          166,
          176,
          161,
          164,
          187,
          159,
          206,
          222,
          243,
          244,
          218,
          175,
          109,
          211,
          220,
          240,
          229,
          189,
          220,
          163,
          135,
          171,
          168,
          150,
          14,
          17,
          12,
          43,
          61,
          49,
          38,
          40,
          39,
          27,
          35,
          38,
          44,
          43,
          34,
          42,
          34,
          43,
          50,
          38,
          29,
          16,
          51,
          28,
          63,
          48,
          55,
          63,
          68,
          61,
          24,
          42,
          42,
          42,
          82,
          55,
          37,
          39,
          79,
          49,
          59,
          93,
          44,
          58,
          38,
          69,
          73,
          69,
          87,
          86,
          81,
          45,
          67,
          115,
          67,
          72,
          75,
          73,
          33,
          66,
          99,
          70,
          60,
          72,
          84,
          58,
          67,
          113,
          98,
          109,
          88,
          86,
          68,
          91,
          109,
          95,
          102,
          123,
          78,
          55,
          79,
          80,
          95,
          128,
          125,
          125,
          41,
          51,
          101,
          100,
          88,
          92,
          102,
          73,
          55,
          120,
          89,
          106,
          105,
          115,
          51,
          52,
          78,
          96,
          131,
          103,
          83,
          47,
          90,
          89,
          71,
          85,
          86,
          100,
          53,
          75,
          91,
          75,
          92,
          86,
          96,
          36,
          37,
          94,
          102,
          73,
          85,
          72,
          26,
          81,
          76,
          109,
          71,
          77,
          65,
          44,
          59,
          54,
          61,
          63,
          39,
          30,
          16,
          19,
          19,
          29,
          33,
          41,
          36,
          10,
          10,
          28,
          54,
          10,
          31,
          17,
          9,
          24,
          36,
          24,
          39,
          36,
          46,
          28,
          38,
          31,
          29,
          38,
          30,
          30,
          31,
          38,
          39,
          34,
          27,
          23,
          23,
          8,
          20,
          41,
          37,
          38,
          33,
          33,
          32,
          28,
          44,
          39,
          53,
          44,
          41,
          19,
          30,
          32,
          24,
          14,
          17,
          23,
          33,
          33,
          39,
          34,
          27,
          26,
          24,
          26,
          17,
          26,
          38,
          39,
          26,
          38,
          32,
          25,
          28,
          32,
          30,
          18,
          38,
          27,
          40,
          26,
          21,
          23,
          22,
          25,
          8,
          11,
          34,
          24,
          26,
          24,
          34,
          14,
          22,
          28,
          26,
          17,
          24,
          31,
          11,
          16,
          27,
          19,
          26,
          36,
          25,
          16,
          20,
          20,
          22,
          27,
          27,
          21,
          16,
          25,
          20,
          10,
          29,
          30,
          33,
          13,
          29,
          44,
          47,
          46,
          20,
          45,
          26,
          35,
          40,
          34,
          20,
          39,
          46,
          48,
          35,
          48,
          40,
          43,
          11,
          28,
          13,
          20,
          51,
          25,
          31
         ],
         "yaxis": "y"
        },
        {
         "hovertemplate": "type=electrics<br>day=%{x}<br>uid=%{y}<extra></extra>",
         "legendgroup": "electrics",
         "line": {
          "color": "#EF553B",
          "dash": "solid"
         },
         "marker": {
          "symbol": "circle"
         },
         "mode": "lines",
         "name": "electrics",
         "orientation": "v",
         "showlegend": true,
         "type": "scatter",
         "x": [
          1,
          2,
          3,
          4,
          5,
          6,
          7,
          8,
          9,
          10,
          11,
          12,
          13,
          14,
          15,
          16,
          17,
          18,
          19,
          20,
          21,
          22,
          23,
          24,
          25,
          26,
          27,
          28,
          29,
          30,
          31,
          32,
          33,
          34,
          35,
          36,
          37,
          38,
          39,
          40,
          41,
          42,
          43,
          44,
          45,
          46,
          47,
          48,
          49,
          50,
          51,
          52,
          53,
          54,
          55,
          56,
          57,
          58,
          59,
          60,
          61,
          62,
          63,
          64,
          65,
          66,
          67,
          68,
          69,
          70,
          71,
          72,
          73,
          74,
          75,
          76,
          77,
          78,
          79,
          80,
          81,
          82,
          83,
          84,
          85,
          86,
          87,
          88,
          89,
          90,
          91,
          92,
          93,
          94,
          95,
          96,
          97,
          98,
          99,
          100,
          101,
          102,
          103,
          104,
          105,
          106,
          107,
          108,
          109,
          110,
          111,
          112,
          113,
          114,
          115,
          116,
          117,
          118,
          119,
          120,
          121,
          122,
          123,
          124,
          125,
          126,
          127,
          128,
          129,
          130,
          131,
          132,
          133,
          134,
          135,
          136,
          137,
          138,
          139,
          140,
          141,
          142,
          143,
          144,
          145,
          146,
          147,
          148,
          149,
          150,
          151,
          152,
          153,
          154,
          155,
          156,
          157,
          158,
          159,
          160,
          161,
          162,
          163,
          164,
          165,
          166,
          167,
          168,
          169,
          170,
          171,
          172,
          173,
          174,
          175,
          176,
          177,
          178,
          179,
          180,
          181,
          182,
          183,
          184,
          185,
          186,
          187,
          188,
          189,
          190,
          191,
          192,
          193,
          194,
          195,
          196,
          197,
          198,
          199,
          200,
          201,
          202,
          203,
          204,
          205,
          206,
          207,
          208,
          209,
          210,
          211,
          212,
          213,
          214,
          215,
          216,
          217,
          218,
          219,
          220,
          221,
          222,
          223,
          224,
          225,
          226,
          227,
          228,
          229,
          230,
          231,
          232,
          233,
          234,
          235,
          236,
          237,
          238,
          239,
          240,
          241,
          242,
          243,
          244,
          245,
          246,
          247,
          248,
          249,
          250,
          251,
          252,
          253,
          254,
          255,
          256,
          257,
          258,
          259,
          260,
          261,
          262,
          263,
          264,
          265,
          266,
          267,
          268,
          269,
          270,
          271,
          272,
          273,
          274,
          275,
          276,
          277,
          278,
          279,
          280,
          281,
          282,
          283,
          284,
          285,
          286,
          287,
          288,
          289,
          290,
          291,
          292,
          293,
          294,
          295,
          296,
          297,
          298,
          299,
          300,
          301,
          302,
          303,
          304,
          305,
          306,
          307,
          308,
          309,
          310,
          311,
          312,
          313,
          314,
          315,
          316,
          317,
          318,
          319,
          320,
          321,
          322,
          323,
          324,
          325,
          326,
          327,
          328,
          329,
          330,
          331,
          332,
          333,
          334,
          335,
          336,
          337,
          338,
          339,
          340,
          341,
          342,
          343,
          344,
          345,
          346,
          347,
          348,
          349,
          350,
          351,
          352,
          353,
          354,
          355,
          356,
          357,
          358,
          359,
          360,
          361,
          362,
          363,
          364,
          365,
          366
         ],
         "xaxis": "x",
         "y": [
          23,
          71,
          72,
          63,
          47,
          45,
          92,
          89,
          99,
          97,
          67,
          54,
          93,
          91,
          94,
          105,
          89,
          86,
          65,
          102,
          91,
          105,
          122,
          101,
          143,
          69,
          146,
          84,
          131,
          92,
          110,
          101,
          68,
          99,
          108,
          112,
          55,
          117,
          118,
          101,
          80,
          92,
          81,
          109,
          142,
          83,
          18,
          49,
          141,
          157,
          146,
          94,
          126,
          84,
          126,
          159,
          160,
          161,
          142,
          187,
          146,
          176,
          206,
          206,
          231,
          177,
          193,
          96,
          220,
          180,
          226,
          230,
          169,
          200,
          124,
          160,
          137,
          143,
          140,
          21,
          25,
          18,
          25,
          37,
          29,
          27,
          27,
          30,
          10,
          17,
          34,
          40,
          40,
          27,
          44,
          32,
          35,
          46,
          37,
          25,
          13,
          32,
          27,
          36,
          51,
          43,
          37,
          44,
          38,
          21,
          27,
          36,
          39,
          68,
          42,
          41,
          28,
          55,
          56,
          50,
          55,
          35,
          50,
          31,
          55,
          70,
          51,
          66,
          43,
          53,
          46,
          59,
          65,
          64,
          65,
          51,
          44,
          24,
          51,
          73,
          57,
          62,
          64,
          70,
          45,
          45,
          78,
          83,
          67,
          69,
          81,
          45,
          79,
          70,
          70,
          59,
          90,
          63,
          39,
          67,
          79,
          88,
          116,
          110,
          88,
          55,
          49,
          86,
          63,
          71,
          80,
          83,
          62,
          46,
          105,
          91,
          91,
          98,
          117,
          46,
          40,
          68,
          81,
          141,
          85,
          88,
          58,
          66,
          88,
          66,
          75,
          79,
          61,
          49,
          54,
          66,
          42,
          78,
          76,
          64,
          41,
          24,
          61,
          93,
          55,
          74,
          62,
          35,
          62,
          73,
          65,
          72,
          61,
          69,
          40,
          68,
          51,
          52,
          69,
          31,
          33,
          12,
          21,
          29,
          26,
          29,
          29,
          32,
          21,
          11,
          19,
          32,
          25,
          20,
          25,
          18,
          21,
          29,
          25,
          33,
          34,
          17,
          12,
          43,
          17,
          44,
          39,
          25,
          25,
          30,
          23,
          24,
          33,
          39,
          12,
          13,
          10,
          13,
          21,
          25,
          44,
          43,
          34,
          20,
          20,
          36,
          47,
          39,
          46,
          48,
          18,
          33,
          29,
          26,
          14,
          10,
          20,
          21,
          20,
          29,
          23,
          20,
          16,
          31,
          16,
          20,
          24,
          35,
          21,
          26,
          42,
          23,
          29,
          30,
          31,
          18,
          22,
          20,
          25,
          18,
          12,
          12,
          25,
          22,
          21,
          14,
          22,
          27,
          20,
          21,
          24,
          27,
          10,
          15,
          24,
          22,
          26,
          27,
          24,
          13,
          14,
          23,
          26,
          21,
          27,
          22,
          17,
          14,
          14,
          19,
          15,
          28,
          23,
          19,
          23,
          10,
          22,
          19,
          23,
          34,
          13,
          23,
          49,
          40,
          33,
          23,
          49,
          30,
          27,
          28,
          32,
          26,
          24,
          59,
          31,
          37,
          32,
          48,
          25,
          9,
          33,
          10,
          27,
          32,
          21,
          26
         ],
         "yaxis": "y"
        }
       ],
       "layout": {
        "legend": {
         "title": {
          "text": "type"
         },
         "tracegroupgap": 0
        },
        "template": {
         "data": {
          "bar": [
           {
            "error_x": {
             "color": "#2a3f5f"
            },
            "error_y": {
             "color": "#2a3f5f"
            },
            "marker": {
             "line": {
              "color": "#E5ECF6",
              "width": 0.5
             },
             "pattern": {
              "fillmode": "overlay",
              "size": 10,
              "solidity": 0.2
             }
            },
            "type": "bar"
           }
          ],
          "barpolar": [
           {
            "marker": {
             "line": {
              "color": "#E5ECF6",
              "width": 0.5
             },
             "pattern": {
              "fillmode": "overlay",
              "size": 10,
              "solidity": 0.2
             }
            },
            "type": "barpolar"
           }
          ],
          "carpet": [
           {
            "aaxis": {
             "endlinecolor": "#2a3f5f",
             "gridcolor": "white",
             "linecolor": "white",
             "minorgridcolor": "white",
             "startlinecolor": "#2a3f5f"
            },
            "baxis": {
             "endlinecolor": "#2a3f5f",
             "gridcolor": "white",
             "linecolor": "white",
             "minorgridcolor": "white",
             "startlinecolor": "#2a3f5f"
            },
            "type": "carpet"
           }
          ],
          "choropleth": [
           {
            "colorbar": {
             "outlinewidth": 0,
             "ticks": ""
            },
            "type": "choropleth"
           }
          ],
          "contour": [
           {
            "colorbar": {
             "outlinewidth": 0,
             "ticks": ""
            },
            "colorscale": [
             [
              0,
              "#0d0887"
             ],
             [
              0.1111111111111111,
              "#46039f"
             ],
             [
              0.2222222222222222,
              "#7201a8"
             ],
             [
              0.3333333333333333,
              "#9c179e"
             ],
             [
              0.4444444444444444,
              "#bd3786"
             ],
             [
              0.5555555555555556,
              "#d8576b"
             ],
             [
              0.6666666666666666,
              "#ed7953"
             ],
             [
              0.7777777777777778,
              "#fb9f3a"
             ],
             [
              0.8888888888888888,
              "#fdca26"
             ],
             [
              1,
              "#f0f921"
             ]
            ],
            "type": "contour"
           }
          ],
          "contourcarpet": [
           {
            "colorbar": {
             "outlinewidth": 0,
             "ticks": ""
            },
            "type": "contourcarpet"
           }
          ],
          "heatmap": [
           {
            "colorbar": {
             "outlinewidth": 0,
             "ticks": ""
            },
            "colorscale": [
             [
              0,
              "#0d0887"
             ],
             [
              0.1111111111111111,
              "#46039f"
             ],
             [
              0.2222222222222222,
              "#7201a8"
             ],
             [
              0.3333333333333333,
              "#9c179e"
             ],
             [
              0.4444444444444444,
              "#bd3786"
             ],
             [
              0.5555555555555556,
              "#d8576b"
             ],
             [
              0.6666666666666666,
              "#ed7953"
             ],
             [
              0.7777777777777778,
              "#fb9f3a"
             ],
             [
              0.8888888888888888,
              "#fdca26"
             ],
             [
              1,
              "#f0f921"
             ]
            ],
            "type": "heatmap"
           }
          ],
          "heatmapgl": [
           {
            "colorbar": {
             "outlinewidth": 0,
             "ticks": ""
            },
            "colorscale": [
             [
              0,
              "#0d0887"
             ],
             [
              0.1111111111111111,
              "#46039f"
             ],
             [
              0.2222222222222222,
              "#7201a8"
             ],
             [
              0.3333333333333333,
              "#9c179e"
             ],
             [
              0.4444444444444444,
              "#bd3786"
             ],
             [
              0.5555555555555556,
              "#d8576b"
             ],
             [
              0.6666666666666666,
              "#ed7953"
             ],
             [
              0.7777777777777778,
              "#fb9f3a"
             ],
             [
              0.8888888888888888,
              "#fdca26"
             ],
             [
              1,
              "#f0f921"
             ]
            ],
            "type": "heatmapgl"
           }
          ],
          "histogram": [
           {
            "marker": {
             "pattern": {
              "fillmode": "overlay",
              "size": 10,
              "solidity": 0.2
             }
            },
            "type": "histogram"
           }
          ],
          "histogram2d": [
           {
            "colorbar": {
             "outlinewidth": 0,
             "ticks": ""
            },
            "colorscale": [
             [
              0,
              "#0d0887"
             ],
             [
              0.1111111111111111,
              "#46039f"
             ],
             [
              0.2222222222222222,
              "#7201a8"
             ],
             [
              0.3333333333333333,
              "#9c179e"
             ],
             [
              0.4444444444444444,
              "#bd3786"
             ],
             [
              0.5555555555555556,
              "#d8576b"
             ],
             [
              0.6666666666666666,
              "#ed7953"
             ],
             [
              0.7777777777777778,
              "#fb9f3a"
             ],
             [
              0.8888888888888888,
              "#fdca26"
             ],
             [
              1,
              "#f0f921"
             ]
            ],
            "type": "histogram2d"
           }
          ],
          "histogram2dcontour": [
           {
            "colorbar": {
             "outlinewidth": 0,
             "ticks": ""
            },
            "colorscale": [
             [
              0,
              "#0d0887"
             ],
             [
              0.1111111111111111,
              "#46039f"
             ],
             [
              0.2222222222222222,
              "#7201a8"
             ],
             [
              0.3333333333333333,
              "#9c179e"
             ],
             [
              0.4444444444444444,
              "#bd3786"
             ],
             [
              0.5555555555555556,
              "#d8576b"
             ],
             [
              0.6666666666666666,
              "#ed7953"
             ],
             [
              0.7777777777777778,
              "#fb9f3a"
             ],
             [
              0.8888888888888888,
              "#fdca26"
             ],
             [
              1,
              "#f0f921"
             ]
            ],
            "type": "histogram2dcontour"
           }
          ],
          "mesh3d": [
           {
            "colorbar": {
             "outlinewidth": 0,
             "ticks": ""
            },
            "type": "mesh3d"
           }
          ],
          "parcoords": [
           {
            "line": {
             "colorbar": {
              "outlinewidth": 0,
              "ticks": ""
             }
            },
            "type": "parcoords"
           }
          ],
          "pie": [
           {
            "automargin": true,
            "type": "pie"
           }
          ],
          "scatter": [
           {
            "fillpattern": {
             "fillmode": "overlay",
             "size": 10,
             "solidity": 0.2
            },
            "type": "scatter"
           }
          ],
          "scatter3d": [
           {
            "line": {
             "colorbar": {
              "outlinewidth": 0,
              "ticks": ""
             }
            },
            "marker": {
             "colorbar": {
              "outlinewidth": 0,
              "ticks": ""
             }
            },
            "type": "scatter3d"
           }
          ],
          "scattercarpet": [
           {
            "marker": {
             "colorbar": {
              "outlinewidth": 0,
              "ticks": ""
             }
            },
            "type": "scattercarpet"
           }
          ],
          "scattergeo": [
           {
            "marker": {
             "colorbar": {
              "outlinewidth": 0,
              "ticks": ""
             }
            },
            "type": "scattergeo"
           }
          ],
          "scattergl": [
           {
            "marker": {
             "colorbar": {
              "outlinewidth": 0,
              "ticks": ""
             }
            },
            "type": "scattergl"
           }
          ],
          "scattermapbox": [
           {
            "marker": {
             "colorbar": {
              "outlinewidth": 0,
              "ticks": ""
             }
            },
            "type": "scattermapbox"
           }
          ],
          "scatterpolar": [
           {
            "marker": {
             "colorbar": {
              "outlinewidth": 0,
              "ticks": ""
             }
            },
            "type": "scatterpolar"
           }
          ],
          "scatterpolargl": [
           {
            "marker": {
             "colorbar": {
              "outlinewidth": 0,
              "ticks": ""
             }
            },
            "type": "scatterpolargl"
           }
          ],
          "scatterternary": [
           {
            "marker": {
             "colorbar": {
              "outlinewidth": 0,
              "ticks": ""
             }
            },
            "type": "scatterternary"
           }
          ],
          "surface": [
           {
            "colorbar": {
             "outlinewidth": 0,
             "ticks": ""
            },
            "colorscale": [
             [
              0,
              "#0d0887"
             ],
             [
              0.1111111111111111,
              "#46039f"
             ],
             [
              0.2222222222222222,
              "#7201a8"
             ],
             [
              0.3333333333333333,
              "#9c179e"
             ],
             [
              0.4444444444444444,
              "#bd3786"
             ],
             [
              0.5555555555555556,
              "#d8576b"
             ],
             [
              0.6666666666666666,
              "#ed7953"
             ],
             [
              0.7777777777777778,
              "#fb9f3a"
             ],
             [
              0.8888888888888888,
              "#fdca26"
             ],
             [
              1,
              "#f0f921"
             ]
            ],
            "type": "surface"
           }
          ],
          "table": [
           {
            "cells": {
             "fill": {
              "color": "#EBF0F8"
             },
             "line": {
              "color": "white"
             }
            },
            "header": {
             "fill": {
              "color": "#C8D4E3"
             },
             "line": {
              "color": "white"
             }
            },
            "type": "table"
           }
          ]
         },
         "layout": {
          "annotationdefaults": {
           "arrowcolor": "#2a3f5f",
           "arrowhead": 0,
           "arrowwidth": 1
          },
          "autotypenumbers": "strict",
          "coloraxis": {
           "colorbar": {
            "outlinewidth": 0,
            "ticks": ""
           }
          },
          "colorscale": {
           "diverging": [
            [
             0,
             "#8e0152"
            ],
            [
             0.1,
             "#c51b7d"
            ],
            [
             0.2,
             "#de77ae"
            ],
            [
             0.3,
             "#f1b6da"
            ],
            [
             0.4,
             "#fde0ef"
            ],
            [
             0.5,
             "#f7f7f7"
            ],
            [
             0.6,
             "#e6f5d0"
            ],
            [
             0.7,
             "#b8e186"
            ],
            [
             0.8,
             "#7fbc41"
            ],
            [
             0.9,
             "#4d9221"
            ],
            [
             1,
             "#276419"
            ]
           ],
           "sequential": [
            [
             0,
             "#0d0887"
            ],
            [
             0.1111111111111111,
             "#46039f"
            ],
            [
             0.2222222222222222,
             "#7201a8"
            ],
            [
             0.3333333333333333,
             "#9c179e"
            ],
            [
             0.4444444444444444,
             "#bd3786"
            ],
            [
             0.5555555555555556,
             "#d8576b"
            ],
            [
             0.6666666666666666,
             "#ed7953"
            ],
            [
             0.7777777777777778,
             "#fb9f3a"
            ],
            [
             0.8888888888888888,
             "#fdca26"
            ],
            [
             1,
             "#f0f921"
            ]
           ],
           "sequentialminus": [
            [
             0,
             "#0d0887"
            ],
            [
             0.1111111111111111,
             "#46039f"
            ],
            [
             0.2222222222222222,
             "#7201a8"
            ],
            [
             0.3333333333333333,
             "#9c179e"
            ],
            [
             0.4444444444444444,
             "#bd3786"
            ],
            [
             0.5555555555555556,
             "#d8576b"
            ],
            [
             0.6666666666666666,
             "#ed7953"
            ],
            [
             0.7777777777777778,
             "#fb9f3a"
            ],
            [
             0.8888888888888888,
             "#fdca26"
            ],
            [
             1,
             "#f0f921"
            ]
           ]
          },
          "colorway": [
           "#636efa",
           "#EF553B",
           "#00cc96",
           "#ab63fa",
           "#FFA15A",
           "#19d3f3",
           "#FF6692",
           "#B6E880",
           "#FF97FF",
           "#FECB52"
          ],
          "font": {
           "color": "#2a3f5f"
          },
          "geo": {
           "bgcolor": "white",
           "lakecolor": "white",
           "landcolor": "#E5ECF6",
           "showlakes": true,
           "showland": true,
           "subunitcolor": "white"
          },
          "hoverlabel": {
           "align": "left"
          },
          "hovermode": "closest",
          "mapbox": {
           "style": "light"
          },
          "paper_bgcolor": "white",
          "plot_bgcolor": "#E5ECF6",
          "polar": {
           "angularaxis": {
            "gridcolor": "white",
            "linecolor": "white",
            "ticks": ""
           },
           "bgcolor": "#E5ECF6",
           "radialaxis": {
            "gridcolor": "white",
            "linecolor": "white",
            "ticks": ""
           }
          },
          "scene": {
           "xaxis": {
            "backgroundcolor": "#E5ECF6",
            "gridcolor": "white",
            "gridwidth": 2,
            "linecolor": "white",
            "showbackground": true,
            "ticks": "",
            "zerolinecolor": "white"
           },
           "yaxis": {
            "backgroundcolor": "#E5ECF6",
            "gridcolor": "white",
            "gridwidth": 2,
            "linecolor": "white",
            "showbackground": true,
            "ticks": "",
            "zerolinecolor": "white"
           },
           "zaxis": {
            "backgroundcolor": "#E5ECF6",
            "gridcolor": "white",
            "gridwidth": 2,
            "linecolor": "white",
            "showbackground": true,
            "ticks": "",
            "zerolinecolor": "white"
           }
          },
          "shapedefaults": {
           "line": {
            "color": "#2a3f5f"
           }
          },
          "ternary": {
           "aaxis": {
            "gridcolor": "white",
            "linecolor": "white",
            "ticks": ""
           },
           "baxis": {
            "gridcolor": "white",
            "linecolor": "white",
            "ticks": ""
           },
           "bgcolor": "#E5ECF6",
           "caxis": {
            "gridcolor": "white",
            "linecolor": "white",
            "ticks": ""
           }
          },
          "title": {
           "x": 0.05
          },
          "xaxis": {
           "automargin": true,
           "gridcolor": "white",
           "linecolor": "white",
           "ticks": "",
           "title": {
            "standoff": 15
           },
           "zerolinecolor": "white",
           "zerolinewidth": 2
          },
          "yaxis": {
           "automargin": true,
           "gridcolor": "white",
           "linecolor": "white",
           "ticks": "",
           "title": {
            "standoff": 15
           },
           "zerolinecolor": "white",
           "zerolinewidth": 2
          }
         }
        },
        "title": {
         "text": "visit to pharms and electrics"
        },
        "xaxis": {
         "anchor": "y",
         "domain": [
          0,
          1
         ],
         "title": {
          "text": "day"
         }
        },
        "yaxis": {
         "anchor": "x",
         "domain": [
          0,
          1
         ],
         "title": {
          "text": "uid"
         }
        }
       }
      },
      "text/html": [
       "<div>                            <div id=\"aa1b11ae-b7f1-4550-a07c-a9f208e43e60\" class=\"plotly-graph-div\" style=\"height:525px; width:100%;\"></div>            <script type=\"text/javascript\">                require([\"plotly\"], function(Plotly) {                    window.PLOTLYENV=window.PLOTLYENV || {};                                    if (document.getElementById(\"aa1b11ae-b7f1-4550-a07c-a9f208e43e60\")) {                    Plotly.newPlot(                        \"aa1b11ae-b7f1-4550-a07c-a9f208e43e60\",                        [{\"hovertemplate\":\"type=dentists<br>day=%{x}<br>uid=%{y}<extra></extra>\",\"legendgroup\":\"dentists\",\"line\":{\"color\":\"#636efa\",\"dash\":\"solid\"},\"marker\":{\"symbol\":\"circle\"},\"mode\":\"lines\",\"name\":\"dentists\",\"orientation\":\"v\",\"showlegend\":true,\"x\":[1,2,3,4,5,6,7,8,9,10,11,12,13,14,15,16,17,18,19,20,21,22,23,24,25,26,27,28,29,30,31,32,33,34,35,36,37,38,39,40,41,42,43,44,45,46,47,48,49,50,51,52,53,54,55,56,57,58,59,60,61,62,63,64,65,66,67,68,69,70,71,72,73,74,75,76,77,78,79,80,81,82,83,84,85,86,87,88,89,90,91,92,93,94,95,96,97,98,99,100,101,102,103,104,105,106,107,108,109,110,111,112,113,114,115,116,117,118,119,120,121,122,123,124,125,126,127,128,129,130,131,132,133,134,135,136,137,138,139,140,141,142,143,144,145,146,147,148,149,150,151,152,153,154,155,156,157,158,159,160,161,162,163,164,165,166,167,168,169,170,171,172,173,174,175,176,177,178,179,180,181,182,183,184,185,186,187,188,189,190,191,192,193,194,195,196,197,198,199,200,201,202,203,204,205,206,207,208,209,210,211,212,213,214,215,216,217,218,219,220,221,222,223,224,225,226,227,228,229,230,231,232,233,234,235,236,237,238,239,240,241,242,243,244,245,246,247,248,249,250,251,252,253,254,255,256,257,258,259,260,261,262,263,264,265,266,267,268,269,270,271,272,273,274,275,276,277,278,279,280,281,282,283,284,285,286,287,288,289,290,291,292,293,294,295,296,297,298,299,300,301,302,303,304,305,306,307,308,309,310,311,312,313,314,315,316,317,318,319,320,321,322,323,324,325,326,327,328,329,330,331,332,333,334,335,336,337,338,339,340,341,342,343,344,345,346,347,348,349,350,351,352,353,354,355,356,357,358,359,360,361,362,363,364,365,366],\"xaxis\":\"x\",\"y\":[26,68,70,64,26,47,90,87,89,89,83,55,101,116,95,104,90,91,61,92,106,129,148,118,139,73,135,73,131,105,123,111,90,106,102,118,75,111,95,95,84,91,78,117,128,95,44,46,150,161,191,107,147,90,132,166,176,161,164,187,159,206,222,243,244,218,175,109,211,220,240,229,189,220,163,135,171,168,150,14,17,12,43,61,49,38,40,39,27,35,38,44,43,34,42,34,43,50,38,29,16,51,28,63,48,55,63,68,61,24,42,42,42,82,55,37,39,79,49,59,93,44,58,38,69,73,69,87,86,81,45,67,115,67,72,75,73,33,66,99,70,60,72,84,58,67,113,98,109,88,86,68,91,109,95,102,123,78,55,79,80,95,128,125,125,41,51,101,100,88,92,102,73,55,120,89,106,105,115,51,52,78,96,131,103,83,47,90,89,71,85,86,100,53,75,91,75,92,86,96,36,37,94,102,73,85,72,26,81,76,109,71,77,65,44,59,54,61,63,39,30,16,19,19,29,33,41,36,10,10,28,54,10,31,17,9,24,36,24,39,36,46,28,38,31,29,38,30,30,31,38,39,34,27,23,23,8,20,41,37,38,33,33,32,28,44,39,53,44,41,19,30,32,24,14,17,23,33,33,39,34,27,26,24,26,17,26,38,39,26,38,32,25,28,32,30,18,38,27,40,26,21,23,22,25,8,11,34,24,26,24,34,14,22,28,26,17,24,31,11,16,27,19,26,36,25,16,20,20,22,27,27,21,16,25,20,10,29,30,33,13,29,44,47,46,20,45,26,35,40,34,20,39,46,48,35,48,40,43,11,28,13,20,51,25,31],\"yaxis\":\"y\",\"type\":\"scatter\"},{\"hovertemplate\":\"type=electrics<br>day=%{x}<br>uid=%{y}<extra></extra>\",\"legendgroup\":\"electrics\",\"line\":{\"color\":\"#EF553B\",\"dash\":\"solid\"},\"marker\":{\"symbol\":\"circle\"},\"mode\":\"lines\",\"name\":\"electrics\",\"orientation\":\"v\",\"showlegend\":true,\"x\":[1,2,3,4,5,6,7,8,9,10,11,12,13,14,15,16,17,18,19,20,21,22,23,24,25,26,27,28,29,30,31,32,33,34,35,36,37,38,39,40,41,42,43,44,45,46,47,48,49,50,51,52,53,54,55,56,57,58,59,60,61,62,63,64,65,66,67,68,69,70,71,72,73,74,75,76,77,78,79,80,81,82,83,84,85,86,87,88,89,90,91,92,93,94,95,96,97,98,99,100,101,102,103,104,105,106,107,108,109,110,111,112,113,114,115,116,117,118,119,120,121,122,123,124,125,126,127,128,129,130,131,132,133,134,135,136,137,138,139,140,141,142,143,144,145,146,147,148,149,150,151,152,153,154,155,156,157,158,159,160,161,162,163,164,165,166,167,168,169,170,171,172,173,174,175,176,177,178,179,180,181,182,183,184,185,186,187,188,189,190,191,192,193,194,195,196,197,198,199,200,201,202,203,204,205,206,207,208,209,210,211,212,213,214,215,216,217,218,219,220,221,222,223,224,225,226,227,228,229,230,231,232,233,234,235,236,237,238,239,240,241,242,243,244,245,246,247,248,249,250,251,252,253,254,255,256,257,258,259,260,261,262,263,264,265,266,267,268,269,270,271,272,273,274,275,276,277,278,279,280,281,282,283,284,285,286,287,288,289,290,291,292,293,294,295,296,297,298,299,300,301,302,303,304,305,306,307,308,309,310,311,312,313,314,315,316,317,318,319,320,321,322,323,324,325,326,327,328,329,330,331,332,333,334,335,336,337,338,339,340,341,342,343,344,345,346,347,348,349,350,351,352,353,354,355,356,357,358,359,360,361,362,363,364,365,366],\"xaxis\":\"x\",\"y\":[23,71,72,63,47,45,92,89,99,97,67,54,93,91,94,105,89,86,65,102,91,105,122,101,143,69,146,84,131,92,110,101,68,99,108,112,55,117,118,101,80,92,81,109,142,83,18,49,141,157,146,94,126,84,126,159,160,161,142,187,146,176,206,206,231,177,193,96,220,180,226,230,169,200,124,160,137,143,140,21,25,18,25,37,29,27,27,30,10,17,34,40,40,27,44,32,35,46,37,25,13,32,27,36,51,43,37,44,38,21,27,36,39,68,42,41,28,55,56,50,55,35,50,31,55,70,51,66,43,53,46,59,65,64,65,51,44,24,51,73,57,62,64,70,45,45,78,83,67,69,81,45,79,70,70,59,90,63,39,67,79,88,116,110,88,55,49,86,63,71,80,83,62,46,105,91,91,98,117,46,40,68,81,141,85,88,58,66,88,66,75,79,61,49,54,66,42,78,76,64,41,24,61,93,55,74,62,35,62,73,65,72,61,69,40,68,51,52,69,31,33,12,21,29,26,29,29,32,21,11,19,32,25,20,25,18,21,29,25,33,34,17,12,43,17,44,39,25,25,30,23,24,33,39,12,13,10,13,21,25,44,43,34,20,20,36,47,39,46,48,18,33,29,26,14,10,20,21,20,29,23,20,16,31,16,20,24,35,21,26,42,23,29,30,31,18,22,20,25,18,12,12,25,22,21,14,22,27,20,21,24,27,10,15,24,22,26,27,24,13,14,23,26,21,27,22,17,14,14,19,15,28,23,19,23,10,22,19,23,34,13,23,49,40,33,23,49,30,27,28,32,26,24,59,31,37,32,48,25,9,33,10,27,32,21,26],\"yaxis\":\"y\",\"type\":\"scatter\"}],                        {\"template\":{\"data\":{\"histogram2dcontour\":[{\"type\":\"histogram2dcontour\",\"colorbar\":{\"outlinewidth\":0,\"ticks\":\"\"},\"colorscale\":[[0.0,\"#0d0887\"],[0.1111111111111111,\"#46039f\"],[0.2222222222222222,\"#7201a8\"],[0.3333333333333333,\"#9c179e\"],[0.4444444444444444,\"#bd3786\"],[0.5555555555555556,\"#d8576b\"],[0.6666666666666666,\"#ed7953\"],[0.7777777777777778,\"#fb9f3a\"],[0.8888888888888888,\"#fdca26\"],[1.0,\"#f0f921\"]]}],\"choropleth\":[{\"type\":\"choropleth\",\"colorbar\":{\"outlinewidth\":0,\"ticks\":\"\"}}],\"histogram2d\":[{\"type\":\"histogram2d\",\"colorbar\":{\"outlinewidth\":0,\"ticks\":\"\"},\"colorscale\":[[0.0,\"#0d0887\"],[0.1111111111111111,\"#46039f\"],[0.2222222222222222,\"#7201a8\"],[0.3333333333333333,\"#9c179e\"],[0.4444444444444444,\"#bd3786\"],[0.5555555555555556,\"#d8576b\"],[0.6666666666666666,\"#ed7953\"],[0.7777777777777778,\"#fb9f3a\"],[0.8888888888888888,\"#fdca26\"],[1.0,\"#f0f921\"]]}],\"heatmap\":[{\"type\":\"heatmap\",\"colorbar\":{\"outlinewidth\":0,\"ticks\":\"\"},\"colorscale\":[[0.0,\"#0d0887\"],[0.1111111111111111,\"#46039f\"],[0.2222222222222222,\"#7201a8\"],[0.3333333333333333,\"#9c179e\"],[0.4444444444444444,\"#bd3786\"],[0.5555555555555556,\"#d8576b\"],[0.6666666666666666,\"#ed7953\"],[0.7777777777777778,\"#fb9f3a\"],[0.8888888888888888,\"#fdca26\"],[1.0,\"#f0f921\"]]}],\"heatmapgl\":[{\"type\":\"heatmapgl\",\"colorbar\":{\"outlinewidth\":0,\"ticks\":\"\"},\"colorscale\":[[0.0,\"#0d0887\"],[0.1111111111111111,\"#46039f\"],[0.2222222222222222,\"#7201a8\"],[0.3333333333333333,\"#9c179e\"],[0.4444444444444444,\"#bd3786\"],[0.5555555555555556,\"#d8576b\"],[0.6666666666666666,\"#ed7953\"],[0.7777777777777778,\"#fb9f3a\"],[0.8888888888888888,\"#fdca26\"],[1.0,\"#f0f921\"]]}],\"contourcarpet\":[{\"type\":\"contourcarpet\",\"colorbar\":{\"outlinewidth\":0,\"ticks\":\"\"}}],\"contour\":[{\"type\":\"contour\",\"colorbar\":{\"outlinewidth\":0,\"ticks\":\"\"},\"colorscale\":[[0.0,\"#0d0887\"],[0.1111111111111111,\"#46039f\"],[0.2222222222222222,\"#7201a8\"],[0.3333333333333333,\"#9c179e\"],[0.4444444444444444,\"#bd3786\"],[0.5555555555555556,\"#d8576b\"],[0.6666666666666666,\"#ed7953\"],[0.7777777777777778,\"#fb9f3a\"],[0.8888888888888888,\"#fdca26\"],[1.0,\"#f0f921\"]]}],\"surface\":[{\"type\":\"surface\",\"colorbar\":{\"outlinewidth\":0,\"ticks\":\"\"},\"colorscale\":[[0.0,\"#0d0887\"],[0.1111111111111111,\"#46039f\"],[0.2222222222222222,\"#7201a8\"],[0.3333333333333333,\"#9c179e\"],[0.4444444444444444,\"#bd3786\"],[0.5555555555555556,\"#d8576b\"],[0.6666666666666666,\"#ed7953\"],[0.7777777777777778,\"#fb9f3a\"],[0.8888888888888888,\"#fdca26\"],[1.0,\"#f0f921\"]]}],\"mesh3d\":[{\"type\":\"mesh3d\",\"colorbar\":{\"outlinewidth\":0,\"ticks\":\"\"}}],\"scatter\":[{\"fillpattern\":{\"fillmode\":\"overlay\",\"size\":10,\"solidity\":0.2},\"type\":\"scatter\"}],\"parcoords\":[{\"type\":\"parcoords\",\"line\":{\"colorbar\":{\"outlinewidth\":0,\"ticks\":\"\"}}}],\"scatterpolargl\":[{\"type\":\"scatterpolargl\",\"marker\":{\"colorbar\":{\"outlinewidth\":0,\"ticks\":\"\"}}}],\"bar\":[{\"error_x\":{\"color\":\"#2a3f5f\"},\"error_y\":{\"color\":\"#2a3f5f\"},\"marker\":{\"line\":{\"color\":\"#E5ECF6\",\"width\":0.5},\"pattern\":{\"fillmode\":\"overlay\",\"size\":10,\"solidity\":0.2}},\"type\":\"bar\"}],\"scattergeo\":[{\"type\":\"scattergeo\",\"marker\":{\"colorbar\":{\"outlinewidth\":0,\"ticks\":\"\"}}}],\"scatterpolar\":[{\"type\":\"scatterpolar\",\"marker\":{\"colorbar\":{\"outlinewidth\":0,\"ticks\":\"\"}}}],\"histogram\":[{\"marker\":{\"pattern\":{\"fillmode\":\"overlay\",\"size\":10,\"solidity\":0.2}},\"type\":\"histogram\"}],\"scattergl\":[{\"type\":\"scattergl\",\"marker\":{\"colorbar\":{\"outlinewidth\":0,\"ticks\":\"\"}}}],\"scatter3d\":[{\"type\":\"scatter3d\",\"line\":{\"colorbar\":{\"outlinewidth\":0,\"ticks\":\"\"}},\"marker\":{\"colorbar\":{\"outlinewidth\":0,\"ticks\":\"\"}}}],\"scattermapbox\":[{\"type\":\"scattermapbox\",\"marker\":{\"colorbar\":{\"outlinewidth\":0,\"ticks\":\"\"}}}],\"scatterternary\":[{\"type\":\"scatterternary\",\"marker\":{\"colorbar\":{\"outlinewidth\":0,\"ticks\":\"\"}}}],\"scattercarpet\":[{\"type\":\"scattercarpet\",\"marker\":{\"colorbar\":{\"outlinewidth\":0,\"ticks\":\"\"}}}],\"carpet\":[{\"aaxis\":{\"endlinecolor\":\"#2a3f5f\",\"gridcolor\":\"white\",\"linecolor\":\"white\",\"minorgridcolor\":\"white\",\"startlinecolor\":\"#2a3f5f\"},\"baxis\":{\"endlinecolor\":\"#2a3f5f\",\"gridcolor\":\"white\",\"linecolor\":\"white\",\"minorgridcolor\":\"white\",\"startlinecolor\":\"#2a3f5f\"},\"type\":\"carpet\"}],\"table\":[{\"cells\":{\"fill\":{\"color\":\"#EBF0F8\"},\"line\":{\"color\":\"white\"}},\"header\":{\"fill\":{\"color\":\"#C8D4E3\"},\"line\":{\"color\":\"white\"}},\"type\":\"table\"}],\"barpolar\":[{\"marker\":{\"line\":{\"color\":\"#E5ECF6\",\"width\":0.5},\"pattern\":{\"fillmode\":\"overlay\",\"size\":10,\"solidity\":0.2}},\"type\":\"barpolar\"}],\"pie\":[{\"automargin\":true,\"type\":\"pie\"}]},\"layout\":{\"autotypenumbers\":\"strict\",\"colorway\":[\"#636efa\",\"#EF553B\",\"#00cc96\",\"#ab63fa\",\"#FFA15A\",\"#19d3f3\",\"#FF6692\",\"#B6E880\",\"#FF97FF\",\"#FECB52\"],\"font\":{\"color\":\"#2a3f5f\"},\"hovermode\":\"closest\",\"hoverlabel\":{\"align\":\"left\"},\"paper_bgcolor\":\"white\",\"plot_bgcolor\":\"#E5ECF6\",\"polar\":{\"bgcolor\":\"#E5ECF6\",\"angularaxis\":{\"gridcolor\":\"white\",\"linecolor\":\"white\",\"ticks\":\"\"},\"radialaxis\":{\"gridcolor\":\"white\",\"linecolor\":\"white\",\"ticks\":\"\"}},\"ternary\":{\"bgcolor\":\"#E5ECF6\",\"aaxis\":{\"gridcolor\":\"white\",\"linecolor\":\"white\",\"ticks\":\"\"},\"baxis\":{\"gridcolor\":\"white\",\"linecolor\":\"white\",\"ticks\":\"\"},\"caxis\":{\"gridcolor\":\"white\",\"linecolor\":\"white\",\"ticks\":\"\"}},\"coloraxis\":{\"colorbar\":{\"outlinewidth\":0,\"ticks\":\"\"}},\"colorscale\":{\"sequential\":[[0.0,\"#0d0887\"],[0.1111111111111111,\"#46039f\"],[0.2222222222222222,\"#7201a8\"],[0.3333333333333333,\"#9c179e\"],[0.4444444444444444,\"#bd3786\"],[0.5555555555555556,\"#d8576b\"],[0.6666666666666666,\"#ed7953\"],[0.7777777777777778,\"#fb9f3a\"],[0.8888888888888888,\"#fdca26\"],[1.0,\"#f0f921\"]],\"sequentialminus\":[[0.0,\"#0d0887\"],[0.1111111111111111,\"#46039f\"],[0.2222222222222222,\"#7201a8\"],[0.3333333333333333,\"#9c179e\"],[0.4444444444444444,\"#bd3786\"],[0.5555555555555556,\"#d8576b\"],[0.6666666666666666,\"#ed7953\"],[0.7777777777777778,\"#fb9f3a\"],[0.8888888888888888,\"#fdca26\"],[1.0,\"#f0f921\"]],\"diverging\":[[0,\"#8e0152\"],[0.1,\"#c51b7d\"],[0.2,\"#de77ae\"],[0.3,\"#f1b6da\"],[0.4,\"#fde0ef\"],[0.5,\"#f7f7f7\"],[0.6,\"#e6f5d0\"],[0.7,\"#b8e186\"],[0.8,\"#7fbc41\"],[0.9,\"#4d9221\"],[1,\"#276419\"]]},\"xaxis\":{\"gridcolor\":\"white\",\"linecolor\":\"white\",\"ticks\":\"\",\"title\":{\"standoff\":15},\"zerolinecolor\":\"white\",\"automargin\":true,\"zerolinewidth\":2},\"yaxis\":{\"gridcolor\":\"white\",\"linecolor\":\"white\",\"ticks\":\"\",\"title\":{\"standoff\":15},\"zerolinecolor\":\"white\",\"automargin\":true,\"zerolinewidth\":2},\"scene\":{\"xaxis\":{\"backgroundcolor\":\"#E5ECF6\",\"gridcolor\":\"white\",\"linecolor\":\"white\",\"showbackground\":true,\"ticks\":\"\",\"zerolinecolor\":\"white\",\"gridwidth\":2},\"yaxis\":{\"backgroundcolor\":\"#E5ECF6\",\"gridcolor\":\"white\",\"linecolor\":\"white\",\"showbackground\":true,\"ticks\":\"\",\"zerolinecolor\":\"white\",\"gridwidth\":2},\"zaxis\":{\"backgroundcolor\":\"#E5ECF6\",\"gridcolor\":\"white\",\"linecolor\":\"white\",\"showbackground\":true,\"ticks\":\"\",\"zerolinecolor\":\"white\",\"gridwidth\":2}},\"shapedefaults\":{\"line\":{\"color\":\"#2a3f5f\"}},\"annotationdefaults\":{\"arrowcolor\":\"#2a3f5f\",\"arrowhead\":0,\"arrowwidth\":1},\"geo\":{\"bgcolor\":\"white\",\"landcolor\":\"#E5ECF6\",\"subunitcolor\":\"white\",\"showland\":true,\"showlakes\":true,\"lakecolor\":\"white\"},\"title\":{\"x\":0.05},\"mapbox\":{\"style\":\"light\"}}},\"xaxis\":{\"anchor\":\"y\",\"domain\":[0.0,1.0],\"title\":{\"text\":\"day\"}},\"yaxis\":{\"anchor\":\"x\",\"domain\":[0.0,1.0],\"title\":{\"text\":\"uid\"}},\"legend\":{\"title\":{\"text\":\"type\"},\"tracegroupgap\":0},\"title\":{\"text\":\"visit to pharms and electrics\"}},                        {\"responsive\": true}                    ).then(function(){\n",
       "                            \n",
       "var gd = document.getElementById('aa1b11ae-b7f1-4550-a07c-a9f208e43e60');\n",
       "var x = new MutationObserver(function (mutations, observer) {{\n",
       "        var display = window.getComputedStyle(gd).display;\n",
       "        if (!display || display === 'none') {{\n",
       "            console.log([gd, 'removed!']);\n",
       "            Plotly.purge(gd);\n",
       "            observer.disconnect();\n",
       "        }}\n",
       "}});\n",
       "\n",
       "// Listen for the removal of the full notebook cells\n",
       "var notebookContainer = gd.closest('#notebook-container');\n",
       "if (notebookContainer) {{\n",
       "    x.observe(notebookContainer, {childList: true});\n",
       "}}\n",
       "\n",
       "// Listen for the clearing of the current output cell\n",
       "var outputEl = gd.closest('.output');\n",
       "if (outputEl) {{\n",
       "    x.observe(outputEl, {childList: true});\n",
       "}}\n",
       "\n",
       "                        })                };                });            </script>        </div>"
      ]
     },
     "metadata": {},
     "output_type": "display_data"
    }
   ],
   "source": [
    "did=df1[df1['type'].isin([ 'dentists','electrics'])] # subset the data to only include experimental and control groups\n",
    "px.line(did, x='day', y='uid', color='type', title=\"visit to pharms and electrics\") # plot the visit over time"
   ]
  },
  {
   "cell_type": "code",
   "execution_count": 44,
   "id": "fe19575b",
   "metadata": {},
   "outputs": [
    {
     "name": "stderr",
     "output_type": "stream",
     "text": [
      "C:\\Users\\Gabriella_Young\\AppData\\Local\\Temp\\ipykernel_15040\\2652003582.py:1: SettingWithCopyWarning:\n",
      "\n",
      "\n",
      "A value is trying to be set on a copy of a slice from a DataFrame.\n",
      "Try using .loc[row_indexer,col_indexer] = value instead\n",
      "\n",
      "See the caveats in the documentation: https://pandas.pydata.org/pandas-docs/stable/user_guide/indexing.html#returning-a-view-versus-a-copy\n",
      "\n",
      "C:\\Users\\Gabriella_Young\\AppData\\Local\\Temp\\ipykernel_15040\\2652003582.py:2: SettingWithCopyWarning:\n",
      "\n",
      "\n",
      "A value is trying to be set on a copy of a slice from a DataFrame.\n",
      "Try using .loc[row_indexer,col_indexer] = value instead\n",
      "\n",
      "See the caveats in the documentation: https://pandas.pydata.org/pandas-docs/stable/user_guide/indexing.html#returning-a-view-versus-a-copy\n",
      "\n",
      "C:\\Users\\Gabriella_Young\\AppData\\Local\\Temp\\ipykernel_15040\\2652003582.py:3: SettingWithCopyWarning:\n",
      "\n",
      "\n",
      "A value is trying to be set on a copy of a slice from a DataFrame.\n",
      "Try using .loc[row_indexer,col_indexer] = value instead\n",
      "\n",
      "See the caveats in the documentation: https://pandas.pydata.org/pandas-docs/stable/user_guide/indexing.html#returning-a-view-versus-a-copy\n",
      "\n"
     ]
    }
   ],
   "source": [
    "did['post']=np.where(did['day']=='171',1,0) # create a variable that is 1 if the date is tax free day and 0 otherwise\n",
    "did['treatment']=np.where(did['type']=='electrics',1,0) # create a variable that is 1 if the type is electrics (i.e., the treatment group) and 0 for pharmacy (the control group)\n",
    "did['post_treatment']=did['post']*did['treatment'] # create a variable that is 1 if the date is on the tax free day and the type is electrics and 0 otherwise"
   ]
  },
  {
   "cell_type": "code",
   "execution_count": 46,
   "id": "19e656a4",
   "metadata": {},
   "outputs": [
    {
     "data": {
      "text/plain": [
       "<matplotlib.legend.Legend at 0x2073fbf7f70>"
      ]
     },
     "execution_count": 46,
     "metadata": {},
     "output_type": "execute_result"
    },
    {
     "data": {
      "image/png": "[encoded data removed]",
      "text/plain": [
       "<Figure size 640x480 with 1 Axes>"
      ]
     },
     "metadata": {},
     "output_type": "display_data"
    }
   ],
   "source": [
    "did=did[(did['day']>=157) & (did['day']<=185)] #day=171\n",
    "\n",
    "#did=did[(did['day']>=312) & (did['day']<=340)] #day=326\n",
    "\n",
    "sns.lineplot(data=did,x='day',y='r',hue='type')\n",
    "plt.axvline(x=169,color='black',linestyle='dashed', label='pre tax free day')\n",
    "plt.axvline(x=171,color='red',linestyle='dashed', label='VAT tax free day')\n",
    "plt.title('Visit rate to dentists and electrics')\n",
    "plt.legend(loc='upper left')"
   ]
  },
  {
   "cell_type": "code",
   "execution_count": null,
   "id": "c03e01d8",
   "metadata": {},
   "outputs": [],
   "source": []
  }
 ],
 "metadata": {
  "kernelspec": {
   "display_name": "Python 3 (ipykernel)",
   "language": "python",
   "name": "python3"
  },
  "language_info": {
   "codemirror_mode": {
    "name": "ipython",
    "version": 3
   },
   "file_extension": ".py",
   "mimetype": "text/x-python",
   "name": "python",
   "nbconvert_exporter": "python",
   "pygments_lexer": "ipython3",
   "version": "3.9.13"
  }
 },
 "nbformat": 4,
 "nbformat_minor": 5
}
